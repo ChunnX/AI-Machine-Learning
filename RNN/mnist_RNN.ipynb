{
 "cells": [
  {
   "cell_type": "code",
   "execution_count": 1,
   "id": "8d2f6e28",
   "metadata": {},
   "outputs": [],
   "source": [
    "import torch\n",
    "from torch import nn\n",
    "import torchvision.datasets as datasets\n",
    "import torchvision.transforms as transforms\n",
    "from torch.utils.data import DataLoader\n",
    "import matplotlib.pyplot as plt"
   ]
  },
  {
   "cell_type": "code",
   "execution_count": 2,
   "id": "06490cec",
   "metadata": {},
   "outputs": [],
   "source": [
    "# 超参数\n",
    "EPOCH = 1\n",
    "batch_size = 64\n",
    "time_size = 28\n",
    "input_size = 28\n",
    "lr = 0.01"
   ]
  },
  {
   "cell_type": "code",
   "execution_count": 3,
   "id": "1650c53f",
   "metadata": {},
   "outputs": [],
   "source": [
    "# MINST数据集加载\n",
    "train_data = datasets.MNIST(root='.mnist', train=True, \n",
    "                            transform=transforms.ToTensor(), download=True)\n",
    "test_data = datasets.MNIST(root='.mnist', train=False, \n",
    "                            transform=transforms.ToTensor(), download=True)\n",
    "test_x = test_data.data.type(torch.FloatTensor)[:2000]/255\n",
    "test_y = test_data.targets.numpy()[:2000]\n",
    "\n",
    "# plt.imshow(train_data.train_data[0].numpy(), cmap='gray')\n",
    "# plt.show()"
   ]
  },
  {
   "cell_type": "code",
   "execution_count": 4,
   "id": "fa22d760",
   "metadata": {},
   "outputs": [],
   "source": [
    "# DataLoader进行分批\n",
    "train_loader = DataLoader(dataset=train_data, batch_size=batch_size, shuffle=True)"
   ]
  },
  {
   "cell_type": "code",
   "execution_count": 5,
   "id": "f8c3c4bb",
   "metadata": {},
   "outputs": [],
   "source": [
    "# 定义网络\n",
    "class RNN(nn.Module):\n",
    "    def __init__(self):\n",
    "        super(RNN, self).__init__()\n",
    "        self.rnn = nn.GRU(input_size=input_size, hidden_size=64,\n",
    "                          num_layers=1, batch_first=True)\n",
    "        self.out = nn.Linear(64, 10)  # 10个分类\n",
    "\n",
    "    def forward(self, x):\n",
    "        # 前向传播\n",
    "        r_out, _ = self.rnn(x)\n",
    "        # 选择最后一个时间步\n",
    "        out = self.out(r_out[:, -1, :])\n",
    "        return out"
   ]
  },
  {
   "cell_type": "code",
   "execution_count": 6,
   "id": "28aec182",
   "metadata": {},
   "outputs": [],
   "source": [
    "# 设置使用GPU\n",
    "cuda = torch.device('cuda')\n",
    "rnn = RNN()\n",
    "rnn = rnn.cuda()\n",
    "optimizer = torch.optim.Adam(rnn.parameters(), lr=lr)\n",
    "loss_func = nn.CrossEntropyLoss()"
   ]
  },
  {
   "cell_type": "code",
   "execution_count": 7,
   "id": "69e0ea4b",
   "metadata": {},
   "outputs": [
    {
     "name": "stdout",
     "output_type": "stream",
     "text": [
      "Epoch: 0, Step: 0, loss: 2.296750783920288, accuracy: 0.104\n",
      "Epoch: 0, Step: 100, loss: 0.474337100982666, accuracy: 0.801\n",
      "Epoch: 0, Step: 200, loss: 0.4759863018989563, accuracy: 0.8905\n",
      "Epoch: 0, Step: 300, loss: 0.07621700316667557, accuracy: 0.916\n",
      "Epoch: 0, Step: 400, loss: 0.36875393986701965, accuracy: 0.951\n",
      "Epoch: 0, Step: 500, loss: 0.06785818934440613, accuracy: 0.9495\n",
      "Epoch: 0, Step: 600, loss: 0.05693020671606064, accuracy: 0.9565\n",
      "Epoch: 0, Step: 700, loss: 0.11919639259576797, accuracy: 0.959\n",
      "Epoch: 0, Step: 800, loss: 0.17804071307182312, accuracy: 0.957\n",
      "Epoch: 0, Step: 900, loss: 0.10407861322164536, accuracy: 0.962\n"
     ]
    }
   ],
   "source": [
    "# 训练 & 验证\n",
    "for epoch in range(EPOCH):\n",
    "    for step, (b_x, b_y) in enumerate(train_loader):\n",
    "        b_x = b_x.view(-1, 28, 28)\n",
    "        output = rnn(b_x.cuda())\n",
    "        loss = loss_func(output, b_y.cuda())\n",
    "        optimizer.zero_grad()\n",
    "        loss.backward()\n",
    "        optimizer.step()\n",
    "\n",
    "        if step % 100 == 0:\n",
    "            test_output = rnn(test_x.cuda())\n",
    "            pred_y = torch.max(test_output, 1)[1].data.cpu().numpy()\n",
    "            accuracy = float((pred_y == test_y).astype(int).sum()) / float(test_y.size)\n",
    "            print('Epoch: {}, Step: {}, loss: {}, accuracy: {}'.format(epoch, step, loss, accuracy))\n"
   ]
  },
  {
   "cell_type": "code",
   "execution_count": 8,
   "id": "14ed5376",
   "metadata": {},
   "outputs": [
    {
     "name": "stdout",
     "output_type": "stream",
     "text": [
      "预测数字:  [7 2 1 0 4 1 4 9 5 9]\n",
      "实际数字:  [7 2 1 0 4 1 4 9 5 9]\n"
     ]
    }
   ],
   "source": [
    "# 从测试集中选择10个进行验证\n",
    "test_x = test_x.cuda()\n",
    "test_output = rnn(test_x[:10].view(-1, 28, 28))\n",
    "pred_y = torch.max(test_output, 1)[1].data.cpu().numpy()\n",
    "print('预测数字: ', pred_y)\n",
    "print('实际数字: ', test_y[:10])"
   ]
  },
  {
   "cell_type": "code",
   "execution_count": null,
   "id": "32575e03",
   "metadata": {},
   "outputs": [],
   "source": []
  }
 ],
 "metadata": {
  "kernelspec": {
   "display_name": "Python 3 (ipykernel)",
   "language": "python",
   "name": "python3"
  },
  "language_info": {
   "codemirror_mode": {
    "name": "ipython",
    "version": 3
   },
   "file_extension": ".py",
   "mimetype": "text/x-python",
   "name": "python",
   "nbconvert_exporter": "python",
   "pygments_lexer": "ipython3",
   "version": "3.9.7"
  }
 },
 "nbformat": 4,
 "nbformat_minor": 5
}
