{
 "cells": [
  {
   "cell_type": "markdown",
   "id": "da3ff0a9",
   "metadata": {},
   "source": [
    "## MNIST手写数字分类（Naive Bayes Classifier)"
   ]
  },
  {
   "cell_type": "code",
   "execution_count": 1,
   "id": "1340ea61",
   "metadata": {},
   "outputs": [],
   "source": [
    "from sklearn.model_selection import train_test_split\n",
    "from sklearn import preprocessing\n",
    "from sklearn.metrics import accuracy_score\n",
    "from sklearn.datasets import load_digits\n",
    "from sklearn.linear_model import LogisticRegression\n",
    "from sklearn.naive_bayes import GaussianNB, MultinomialNB, BernoulliNB\n",
    "from sklearn.tree import DecisionTreeClassifier\n",
    "from sklearn.ensemble import RandomForestClassifier\n",
    "from sklearn.svm import SVC\n",
    "import matplotlib.pyplot as plt\n",
    "from icecream import ic"
   ]
  },
  {
   "cell_type": "code",
   "execution_count": 2,
   "id": "e587571e",
   "metadata": {},
   "outputs": [
    {
     "name": "stderr",
     "output_type": "stream",
     "text": [
      "ic| data.shape: (1797, 64)\n",
      "ic| digits.images[0]: array([[ 0.,  0.,  5., 13.,  9.,  1.,  0.,  0.],\n",
      "                             [ 0.,  0., 13., 15., 10., 15.,  5.,  0.],\n",
      "                             [ 0.,  3., 15.,  2.,  0., 11.,  8.,  0.],\n",
      "                             [ 0.,  4., 12.,  0.,  0.,  8.,  8.,  0.],\n",
      "                             [ 0.,  5.,  8.,  0.,  0.,  9.,  8.,  0.],\n",
      "                             [ 0.,  4., 11.,  0.,  1., 12.,  7.,  0.],\n",
      "                             [ 0.,  2., 14.,  5., 10., 12.,  0.,  0.],\n",
      "                             [ 0.,  0.,  6., 13., 10.,  0.,  0.,  0.]])\n",
      "ic| digits.target[0]: 0\n"
     ]
    },
    {
     "data": {
      "text/plain": [
       "0"
      ]
     },
     "execution_count": 2,
     "metadata": {},
     "output_type": "execute_result"
    }
   ],
   "source": [
    "digits = load_digits()\n",
    "data = digits.data\n",
    "# 数据探索\n",
    "ic(data.shape)\n",
    "ic(digits.images[0])\n",
    "ic(digits.target[0])"
   ]
  },
  {
   "cell_type": "code",
   "execution_count": 3,
   "id": "1a8bd95b",
   "metadata": {},
   "outputs": [],
   "source": [
    "# 25%作为测试集\n",
    "train_x, test_x, train_y, test_y = train_test_split(data, digits.target,\n",
    "                                                   test_size=0.25, \n",
    "                                                   random_state=33)"
   ]
  },
  {
   "cell_type": "code",
   "execution_count": 4,
   "id": "4afbfdc9",
   "metadata": {},
   "outputs": [
    {
     "name": "stderr",
     "output_type": "stream",
     "text": [
      "C:\\Users\\DELL\\anaconda3\\lib\\site-packages\\sklearn\\linear_model\\_logistic.py:763: ConvergenceWarning: lbfgs failed to converge (status=1):\n",
      "STOP: TOTAL NO. of ITERATIONS REACHED LIMIT.\n",
      "\n",
      "Increase the number of iterations (max_iter) or scale the data as shown in:\n",
      "    https://scikit-learn.org/stable/modules/preprocessing.html\n",
      "Please also refer to the documentation for alternative solver options:\n",
      "    https://scikit-learn.org/stable/modules/linear_model.html#logistic-regression\n",
      "  n_iter_i = _check_optimize_result(\n"
     ]
    },
    {
     "name": "stdout",
     "output_type": "stream",
     "text": [
      "LR准确率: 0.9556\n"
     ]
    }
   ],
   "source": [
    "# 创建Logistic Regression分类器\n",
    "model = LogisticRegression()\n",
    "model.fit(train_x, train_y)\n",
    "predict_y = model.predict(test_x)\n",
    "print('LR准确率: %0.4lf' % accuracy_score(predict_y, test_y))"
   ]
  },
  {
   "cell_type": "code",
   "execution_count": 5,
   "id": "bd42b244",
   "metadata": {},
   "outputs": [
    {
     "name": "stdout",
     "output_type": "stream",
     "text": [
      "GaussianNB准确率: 0.8311\n"
     ]
    }
   ],
   "source": [
    "# GaussianNB\n",
    "model = GaussianNB()\n",
    "model.fit(train_x, train_y)\n",
    "predict_y = model.predict(test_x)\n",
    "print('GaussianNB准确率: %0.4lf' % accuracy_score(predict_y, test_y))\n",
    "# ic(model.class_prior_)\n",
    "# ic(model.class_count_)\n",
    "# ic(model.theta_)\n",
    "# ic(model.sigma_)"
   ]
  },
  {
   "cell_type": "code",
   "execution_count": 6,
   "id": "065febd5",
   "metadata": {},
   "outputs": [
    {
     "name": "stdout",
     "output_type": "stream",
     "text": [
      "MultinomialNB准确率: 0.8933\n"
     ]
    }
   ],
   "source": [
    "# MultinomialNB\n",
    "model = MultinomialNB()\n",
    "model.fit(train_x, train_y)\n",
    "predict_y = model.predict(test_x)\n",
    "print('MultinomialNB准确率: %0.4lf' % accuracy_score(predict_y, test_y))\n",
    "# ic(model.class_log_prior_)\n",
    "# ic(model.intercept_)\n",
    "# ic(model.feature_log_prob_)\n",
    "# ic(model.coef_)\n",
    "# ic(model.class_count_)\n",
    "# ic(model.feature_count_)"
   ]
  },
  {
   "cell_type": "code",
   "execution_count": 7,
   "id": "5e880699",
   "metadata": {},
   "outputs": [
    {
     "name": "stdout",
     "output_type": "stream",
     "text": [
      "BernoulliNB准确率: 0.8444\n"
     ]
    }
   ],
   "source": [
    "# BernoulliNB\n",
    "model = BernoulliNB()\n",
    "model.fit(train_x, train_y)\n",
    "predict_y = model.predict(test_x)\n",
    "print('BernoulliNB准确率: %0.4lf' % accuracy_score(predict_y, test_y))"
   ]
  },
  {
   "cell_type": "code",
   "execution_count": 8,
   "id": "e5c4558b",
   "metadata": {},
   "outputs": [
    {
     "name": "stdout",
     "output_type": "stream",
     "text": [
      "Decision Tree准确率: 0.8444\n"
     ]
    }
   ],
   "source": [
    "# Decision Tree\n",
    "model = DecisionTreeClassifier()\n",
    "model.fit(train_x, train_y)\n",
    "predict_y = model.predict(test_x)\n",
    "print('Decision Tree准确率: %0.4lf' % accuracy_score(predict_y, test_y))"
   ]
  },
  {
   "cell_type": "code",
   "execution_count": 9,
   "id": "e71c7b2f",
   "metadata": {},
   "outputs": [
    {
     "name": "stdout",
     "output_type": "stream",
     "text": [
      "Random Forest准确率: 0.9622\n"
     ]
    }
   ],
   "source": [
    "# Random Forest\n",
    "model = RandomForestClassifier()\n",
    "model.fit(train_x, train_y)\n",
    "predict_y = model.predict(test_x)\n",
    "print('Random Forest准确率: %0.4lf' % accuracy_score(predict_y, test_y))"
   ]
  },
  {
   "cell_type": "code",
   "execution_count": 10,
   "id": "7d27c731",
   "metadata": {},
   "outputs": [
    {
     "name": "stdout",
     "output_type": "stream",
     "text": [
      "SVC准确率: 0.9844\n"
     ]
    }
   ],
   "source": [
    "# SVM\n",
    "model = SVC()\n",
    "model.fit(train_x, train_y)\n",
    "predict_y = model.predict(test_x)\n",
    "print('SVC准确率: %0.4lf' % accuracy_score(predict_y, test_y))"
   ]
  },
  {
   "cell_type": "code",
   "execution_count": null,
   "id": "a38147a9",
   "metadata": {},
   "outputs": [],
   "source": []
  }
 ],
 "metadata": {
  "kernelspec": {
   "display_name": "Python 3 (ipykernel)",
   "language": "python",
   "name": "python3"
  },
  "language_info": {
   "codemirror_mode": {
    "name": "ipython",
    "version": 3
   },
   "file_extension": ".py",
   "mimetype": "text/x-python",
   "name": "python",
   "nbconvert_exporter": "python",
   "pygments_lexer": "ipython3",
   "version": "3.9.7"
  }
 },
 "nbformat": 4,
 "nbformat_minor": 5
}
