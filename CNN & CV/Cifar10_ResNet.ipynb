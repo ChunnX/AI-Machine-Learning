{
 "cells": [
  {
   "cell_type": "code",
   "execution_count": 1,
   "id": "17d058f1",
   "metadata": {},
   "outputs": [],
   "source": [
    "import torch\n",
    "import torch.nn as nn\n",
    "import torch.optim as optim\n",
    "import torchvision\n",
    "import torchvision.datasets as datasets\n",
    "import torchvision.transforms as transforms\n",
    "from torch.utils.data import DataLoader\n",
    "import matplotlib.pyplot as plt\n",
    "from icecream import ic\n",
    "import time"
   ]
  },
  {
   "cell_type": "code",
   "execution_count": 2,
   "id": "f5387731",
   "metadata": {},
   "outputs": [],
   "source": [
    "# 超参数定义\n",
    "EPOCH = 10\n",
    "batch_size = 64\n",
    "lr = 0.001"
   ]
  },
  {
   "cell_type": "code",
   "execution_count": 3,
   "id": "43d049f2",
   "metadata": {},
   "outputs": [
    {
     "name": "stdout",
     "output_type": "stream",
     "text": [
      "Files already downloaded and verified\n",
      "Files already downloaded and verified\n"
     ]
    }
   ],
   "source": [
    "# 数据加载\n",
    "train_data = datasets.CIFAR10(root='/nas/cifar10/', train=True,\n",
    "                              transform=transforms.ToTensor(),\n",
    "                              download=True)\n",
    "\n",
    "test_data = datasets.CIFAR10(root='/nas/cifar10/', train=False,\n",
    "                             transform=transforms.ToTensor(),\n",
    "                             download=True)"
   ]
  },
  {
   "cell_type": "code",
   "execution_count": 4,
   "id": "6087ddc5",
   "metadata": {},
   "outputs": [],
   "source": [
    "# 输出图像\n",
    "temp = train_data[1][0].numpy()\n",
    "# ic(temp.shape)\n",
    "temp = temp.transpose(1, 2, 0)\n",
    "# # ic(temp.shape)\n",
    "# plt.imshow(temp)\n",
    "# plt.show()"
   ]
  },
  {
   "cell_type": "code",
   "execution_count": 5,
   "id": "8d901c02",
   "metadata": {},
   "outputs": [],
   "source": [
    "# 使用DataLoader进行数据分批\n",
    "train_load = DataLoader(dataset=train_data, batch_size=batch_size, shuffle=True)\n",
    "test_load = DataLoader(dataset=test_data, batch_size=batch_size, shuffle=True)"
   ]
  },
  {
   "cell_type": "code",
   "execution_count": 6,
   "id": "381d0103",
   "metadata": {},
   "outputs": [
    {
     "data": {
      "text/plain": [
       "True"
      ]
     },
     "execution_count": 6,
     "metadata": {},
     "output_type": "execute_result"
    }
   ],
   "source": [
    "import torch\n",
    "torch.cuda.is_available()"
   ]
  },
  {
   "cell_type": "code",
   "execution_count": 7,
   "id": "60b2ae52",
   "metadata": {},
   "outputs": [],
   "source": [
    "# 使用ResNet50\n",
    "model = torchvision.models.resnet50(pretrained=False)\n",
    "\n",
    "# 损失函数\n",
    "criterion = nn.CrossEntropyLoss()\n",
    "optimizer = optim.Adam(model.parameters(), lr=lr)\n",
    "\n",
    "# 设置GPU\n",
    "device = torch.device('cuda')\n",
    "# 模型和输入数据都需要to(device)\n",
    "model = model.to(device)"
   ]
  },
  {
   "cell_type": "code",
   "execution_count": 8,
   "id": "56767ccc",
   "metadata": {},
   "outputs": [
    {
     "name": "stderr",
     "output_type": "stream",
     "text": [
      "ic| 'epoch{} loss:{:.4f}'.format(epoch+1, loss.item()): 'epoch1 loss:1.7007'\n",
      "ic| 'epoch{} loss:{:.4f}'.format(epoch+1, loss.item()): 'epoch2 loss:2.1188'\n",
      "ic| 'epoch{} loss:{:.4f}'.format(epoch+1, loss.item()): 'epoch3 loss:1.5462'\n",
      "ic| 'epoch{} loss:{:.4f}'.format(epoch+1, loss.item()): 'epoch4 loss:2.0405'\n",
      "ic| 'epoch{} loss:{:.4f}'.format(epoch+1, loss.item()): 'epoch5 loss:1.7189'\n",
      "ic| 'epoch{} loss:{:.4f}'.format(epoch+1, loss.item()): 'epoch6 loss:0.8300'\n",
      "ic| 'epoch{} loss:{:.4f}'.format(epoch+1, loss.item()): 'epoch7 loss:1.7909'\n",
      "ic| 'epoch{} loss:{:.4f}'.format(epoch+1, loss.item()): 'epoch8 loss:0.9448'\n",
      "ic| 'epoch{} loss:{:.4f}'.format(epoch+1, loss.item()): 'epoch9 loss:1.3173'\n",
      "ic| 'epoch{} loss:{:.4f}'.format(epoch+1, loss.item()): 'epoch10 loss:0.9192'\n"
     ]
    },
    {
     "name": "stdout",
     "output_type": "stream",
     "text": [
      "cifar10_ResNet.pt is saved\n"
     ]
    }
   ],
   "source": [
    "# 训练过程\n",
    "for epoch in range(EPOCH):\n",
    "    for i, data in enumerate(train_load):\n",
    "        inputs, labels = data\n",
    "        inputs, labels = inputs.to(device), labels.to(device)\n",
    "        # 前向传播\n",
    "        outputs = model(inputs)\n",
    "        # 计算损失函数\n",
    "        loss = criterion(outputs, labels)\n",
    "        # 清空上一轮梯度\n",
    "        optimizer.zero_grad()\n",
    "        # 反向传播\n",
    "        loss.backward()\n",
    "        # 参数更新\n",
    "        optimizer.step()\n",
    "    ic('epoch{} loss:{:.4f}'.format(epoch+1, loss.item()))\n",
    "# 保存模型参数\n",
    "torch.save(model, 'cifar10_ResNet.pt')\n",
    "print('cifar10_ResNet.pt is saved')"
   ]
  },
  {
   "cell_type": "code",
   "execution_count": 9,
   "id": "8a955ee9",
   "metadata": {},
   "outputs": [
    {
     "name": "stdout",
     "output_type": "stream",
     "text": [
      "测试图像10000张的准确率：66.4300%\n"
     ]
    }
   ],
   "source": [
    "# 模型加载\n",
    "model = torch.load('cifar10_ResNet.pt')\n",
    "# 测试\n",
    "model.eval()\n",
    "correct, total = 0, 0\n",
    "for data in test_load:\n",
    "    inputs, labels = data\n",
    "    inputs, labels = inputs.to(device), labels.to(device)\n",
    "    # 前向传播\n",
    "    outputs = model(inputs)\n",
    "    _, predicted = torch.max(outputs.data, 1)\n",
    "    total += labels.size(0)\n",
    "    correct += (predicted==labels).sum().item()\n",
    "\n",
    "# 输出测试集准确率\n",
    "print('测试图像10000张的准确率：{:.4f}%'.format(100*correct/total))"
   ]
  },
  {
   "cell_type": "code",
   "execution_count": null,
   "id": "51a76873",
   "metadata": {},
   "outputs": [],
   "source": []
  }
 ],
 "metadata": {
  "kernelspec": {
   "display_name": "Python 3 (ipykernel)",
   "language": "python",
   "name": "python3"
  },
  "language_info": {
   "codemirror_mode": {
    "name": "ipython",
    "version": 3
   },
   "file_extension": ".py",
   "mimetype": "text/x-python",
   "name": "python",
   "nbconvert_exporter": "python",
   "pygments_lexer": "ipython3",
   "version": "3.9.7"
  }
 },
 "nbformat": 4,
 "nbformat_minor": 5
}
